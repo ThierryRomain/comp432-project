{
 "cells": [
  {
   "cell_type": "code",
   "execution_count": 1,
   "metadata": {},
   "outputs": [],
   "source": [
    "import gym\n",
    "import numpy as np\n",
    "import matplotlib.pyplot as plt\n",
    "import sklearn\n",
    "import torch\n",
    "from collections import deque\n",
    "import random"
   ]
  },
  {
   "cell_type": "code",
   "execution_count": 92,
   "metadata": {},
   "outputs": [],
   "source": [
    "class NNpredictor():\n",
    "    \n",
    "    #init model and hyperparameters\n",
    "    def __init__(self,input_shape,output_shape,env):\n",
    "        self.env = env\n",
    "        \n",
    "        #models hyperparameters\n",
    "        self.exploration_min = 0.01\n",
    "        self.exploration_decay = 0.996\n",
    "        self.exploration_rate = 1\n",
    "        self.batch_size = 32\n",
    "        self.gamma = 0.95\n",
    "        self.lr = 0.001\n",
    "        \n",
    "        #model architecture\n",
    "        self.model = torch.nn.Sequential(\n",
    "            torch.nn.Linear(input_shape,32),\n",
    "            torch.nn.ReLU(),\n",
    "            torch.nn.Linear(32,32),\n",
    "            torch.nn.ReLU(),\n",
    "            torch.nn.Linear(32,output_shape),\n",
    "        )\n",
    "        self.loss = torch.nn.MSELoss()\n",
    "        self.optimizer = torch.optim.Adam(self.model.parameters(), lr=self.lr)\n",
    "        \n",
    "        self.memory = deque(maxlen=1000000)\n",
    "        \n",
    "        \n",
    "    #select an action, either random or from model\n",
    "    def select_action(self,state):\n",
    "        #this ensures that the model explores the environment and accumulates memory (stochasticity)\n",
    "        if np.random.rand() < self.exploration_rate:\n",
    "            return self.env.action_space.sample()\n",
    "        \n",
    "        state = torch.from_numpy(state.astype(\"float32\")) \n",
    "        q_values = self.model(state)\n",
    "        return torch.argmax(q_values).item()\n",
    "\n",
    "\n",
    "    #add an experience to the model's memory\n",
    "    def remember(self,last_state,action,reward,next_state,done):\n",
    "        self.memory.append((last_state,action,reward,next_state,done))\n",
    "\n",
    "        \n",
    "    #replay experiences from memory and fit the model\n",
    "    def experience_replay(self,logs,episode,episode_steps):\n",
    "\n",
    "        if len(self.memory) < self.batch_size:\n",
    "            return\n",
    "\n",
    "        batch = random.sample(self.memory,self.batch_size)\n",
    "\n",
    "        running_loss = 0\n",
    "        for last_state, action, reward, next_state, done in batch:\n",
    "            q_update = reward\n",
    "            if not done:\n",
    "                #calculate what q value should have been for selected action\n",
    "                q_update = (reward + self.gamma * torch.amax(self.model(torch.from_numpy(next_state.astype(\"float32\")))).item())\n",
    "            q_values = self.model(torch.from_numpy(last_state.astype(\"float32\")))\n",
    "            q_values[action] = q_update\n",
    "\n",
    "            #fit\n",
    "            l = self.loss(self.model(torch.from_numpy(last_state.astype(\"float32\"))), q_values)\n",
    "            self.model.zero_grad()\n",
    "            l.backward()\n",
    "            self.optimizer.step()\n",
    "            running_loss += l.item()\n",
    "        \n",
    "        try:\n",
    "            logs.episodes_loss[episode-1] += running_loss/self.batch_size\n",
    "        except IndexError:\n",
    "            logs.episodes_loss = np.append(logs.episodes_loss,running_loss/self.batch_size)\n",
    "\n",
    "        #decay exploration rate to reduce randomness\n",
    "        if self.exploration_rate > self.exploration_min:\n",
    "            self.exploration_rate *= self.exploration_decay"
   ]
  },
  {
   "cell_type": "code",
   "execution_count": 93,
   "metadata": {},
   "outputs": [],
   "source": [
    "class MetricsLogger():\n",
    "    \n",
    "    def __init__(self):\n",
    "        self.episodes_steps = np.array([])\n",
    "        self.episodes_before_solve = np.array([])\n",
    "        self.episodes_loss = np.array([])"
   ]
  },
  {
   "cell_type": "code",
   "execution_count": 94,
   "metadata": {},
   "outputs": [],
   "source": [
    "#Init environment\n",
    "env = gym.make('CartPole-v0')\n",
    "env._max_episode_steps = 200\n",
    "\n",
    "#Init model\n",
    "model = NNpredictor(4,2,env)\n",
    "\n",
    "#Init Logger\n",
    "logs = MetricsLogger()"
   ]
  },
  {
   "cell_type": "code",
   "execution_count": 95,
   "metadata": {},
   "outputs": [
    {
     "name": "stdout",
     "output_type": "stream",
     "text": [
      "Episode 1 finished after 21 steps with 19.0 total reward\n",
      "Episode 2 finished after 9 steps with 7.0 total reward\n",
      "Episode 3 finished after 11 steps with 9.0 total reward\n",
      "Episode 4 finished after 19 steps with 17.0 total reward\n",
      "Episode 5 finished after 56 steps with 54.0 total reward\n",
      "Episode 6 finished after 9 steps with 7.0 total reward\n",
      "Episode 7 finished after 23 steps with 21.0 total reward\n",
      "Episode 8 finished after 25 steps with 23.0 total reward\n",
      "Episode 9 finished after 11 steps with 9.0 total reward\n",
      "Episode 10 finished after 9 steps with 7.0 total reward\n",
      "Episode 11 finished after 40 steps with 38.0 total reward\n",
      "Episode 12 finished after 36 steps with 34.0 total reward\n",
      "Episode 13 finished after 57 steps with 55.0 total reward\n",
      "Episode 14 finished after 35 steps with 33.0 total reward\n",
      "Episode 15 finished after 48 steps with 46.0 total reward\n",
      "Episode 16 finished after 41 steps with 39.0 total reward\n",
      "Episode 17 finished after 36 steps with 34.0 total reward\n",
      "Episode 18 finished after 36 steps with 34.0 total reward\n",
      "Episode 19 finished after 58 steps with 56.0 total reward\n",
      "Episode 20 finished after 102 steps with 100.0 total reward\n",
      "Episode 21 finished after 78 steps with 76.0 total reward\n",
      "Episode 22 finished after 200 steps with 198.0 total reward\n",
      "Episode 23 finished after 168 steps with 166.0 total reward\n",
      "Episode 24 finished after 141 steps with 139.0 total reward\n",
      "Episode 25 finished after 126 steps with 124.0 total reward\n",
      "Episode 26 finished after 195 steps with 193.0 total reward\n",
      "Episode 27 finished after 200 steps with 198.0 total reward\n",
      "Episode 28 finished after 199 steps with 197.0 total reward\n",
      "Episode 29 finished after 200 steps with 198.0 total reward\n",
      "Episode 30 finished after 200 steps with 198.0 total reward\n",
      "Episode 31 finished after 200 steps with 198.0 total reward\n",
      "Episode 32 finished after 200 steps with 198.0 total reward\n",
      "Episode 33 finished after 200 steps with 198.0 total reward\n",
      "Episode 34 finished after 200 steps with 198.0 total reward\n",
      "Episode 35 finished after 200 steps with 198.0 total reward\n",
      "Episode 36 finished after 200 steps with 198.0 total reward\n",
      "Episode 37 finished after 200 steps with 198.0 total reward\n",
      "Episode 38 finished after 200 steps with 198.0 total reward\n",
      "Episode 39 finished after 200 steps with 198.0 total reward\n",
      "Episode 40 finished after 200 steps with 198.0 total reward\n",
      "Episode 41 finished after 200 steps with 198.0 total reward\n",
      "Episode 42 finished after 200 steps with 198.0 total reward\n",
      "Episode 43 finished after 200 steps with 198.0 total reward\n",
      "Episode 44 finished after 47 steps with 45.0 total reward\n",
      "Episode 45 finished after 200 steps with 198.0 total reward\n",
      "Episode 46 finished after 200 steps with 198.0 total reward\n",
      "Episode 47 finished after 175 steps with 173.0 total reward\n",
      "Episode 48 finished after 200 steps with 198.0 total reward\n",
      "Episode 49 finished after 192 steps with 190.0 total reward\n",
      "Episode 50 finished after 200 steps with 198.0 total reward\n",
      "Episode 51 finished after 181 steps with 179.0 total reward\n",
      "Episode 52 finished after 127 steps with 125.0 total reward\n",
      "Episode 53 finished after 131 steps with 129.0 total reward\n",
      "Episode 54 finished after 200 steps with 198.0 total reward\n",
      "Episode 55 finished after 200 steps with 198.0 total reward\n",
      "Episode 56 finished after 200 steps with 198.0 total reward\n",
      "Episode 57 finished after 132 steps with 130.0 total reward\n",
      "Episode 58 finished after 154 steps with 152.0 total reward\n",
      "Episode 59 finished after 200 steps with 198.0 total reward\n",
      "Episode 60 finished after 200 steps with 198.0 total reward\n",
      "Episode 61 finished after 159 steps with 157.0 total reward\n",
      "Episode 62 finished after 200 steps with 198.0 total reward\n",
      "Episode 63 finished after 115 steps with 113.0 total reward\n",
      "Episode 64 finished after 200 steps with 198.0 total reward\n",
      "Done\n"
     ]
    }
   ],
   "source": [
    "################################\n",
    "# Training loop #\n",
    "################################\n",
    "num_solved = 0\n",
    "episode_i = 0\n",
    "episode_i_before_solve = 0\n",
    "while num_solved < 30 and episode_i < 500:\n",
    "    episode_i += 1\n",
    "    last_state = env.reset()\n",
    "    steps = 0\n",
    "    total_reward = 0\n",
    "    episode_i_before_solve += 1\n",
    "    \n",
    "    while True:\n",
    "        running_loss = 0\n",
    "        #uncomment this to display simulation \n",
    "#         env.render()\n",
    "        steps += 1\n",
    "        action = model.select_action(last_state)\n",
    "        next_state, reward, done, info = env.step(action)\n",
    "        reward = reward if not done else -reward\n",
    "        model.remember(last_state,action,reward,next_state,done)\n",
    "        model.experience_replay(logs,episode_i,steps)\n",
    "        \n",
    "        total_reward += reward\n",
    "        \n",
    "        if done:\n",
    "            print(\"Episode {} finished after {} steps with {} total reward\".format(episode_i,steps,total_reward))\n",
    "            if total_reward > 190:\n",
    "                logs.episodes_before_solve = np.append(logs.episodes_before_solve,episode_i_before_solve)\n",
    "                episode_i_before_solve = 0\n",
    "                num_solved += 1\n",
    "            break\n",
    "    \n",
    "        last_state = next_state\n",
    "    \n",
    "    logs.episodes_steps = np.append(logs.episodes_steps,steps)\n",
    "\n",
    "print(\"Done\")\n",
    "\n",
    "env.close()"
   ]
  },
  {
   "cell_type": "code",
   "execution_count": 104,
   "metadata": {},
   "outputs": [
    {
     "data": {
      "image/png": "[encoded data removed]",
      "text/plain": [
       "<Figure size 432x288 with 1 Axes>"
      ]
     },
     "metadata": {
      "needs_background": "light"
     },
     "output_type": "display_data"
    }
   ],
   "source": [
    "plt.plot(logs.episodes_steps)\n",
    "plt.title(\"Number of steps per episode\")\n",
    "plt.xlabel(\"episode number\")\n",
    "plt.ylabel(\"number of steps\")\n",
    "plt.show;"
   ]
  },
  {
   "cell_type": "code",
   "execution_count": 105,
   "metadata": {},
   "outputs": [
    {
     "data": {
      "image/png": "[encoded data removed]",
      "text/plain": [
       "<Figure size 432x288 with 1 Axes>"
      ]
     },
     "metadata": {
      "needs_background": "light"
     },
     "output_type": "display_data"
    }
   ],
   "source": [
    "plt.plot(logs.episodes_before_solve)\n",
    "plt.title(\"Number of episodes before solving environment\")\n",
    "plt.xlabel(\"trial number\")\n",
    "plt.ylabel(\"number of episodes\")\n",
    "plt.show;"
   ]
  },
  {
   "cell_type": "code",
   "execution_count": 106,
   "metadata": {},
   "outputs": [
    {
     "data": {
      "image/png": "[encoded data removed]",
      "text/plain": [
       "<Figure size 432x288 with 1 Axes>"
      ]
     },
     "metadata": {
      "needs_background": "light"
     },
     "output_type": "display_data"
    }
   ],
   "source": [
    "plt.plot(np.divide(logs.episodes_loss,logs.episodes_steps))\n",
    "plt.title(\"Average loss per episode\")\n",
    "plt.xlabel(\"episode number\")\n",
    "plt.ylabel(\"average loss\")\n",
    "plt.show;"
   ]
  },
  {
   "cell_type": "code",
   "execution_count": null,
   "metadata": {},
   "outputs": [],
   "source": []
  }
 ],
 "metadata": {
  "kernelspec": {
   "display_name": "Python 3",
   "language": "python",
   "name": "python3"
  },
  "language_info": {
   "codemirror_mode": {
    "name": "ipython",
    "version": 3
   },
   "file_extension": ".py",
   "mimetype": "text/x-python",
   "name": "python",
   "nbconvert_exporter": "python",
   "pygments_lexer": "ipython3",
   "version": "3.8.5"
  }
 },
 "nbformat": 4,
 "nbformat_minor": 4
}
